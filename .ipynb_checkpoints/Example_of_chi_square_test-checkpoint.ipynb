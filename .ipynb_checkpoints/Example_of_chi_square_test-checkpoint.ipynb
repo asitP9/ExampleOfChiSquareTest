{
 "cells": [
  {
   "cell_type": "markdown",
   "id": "4d68e711",
   "metadata": {},
   "source": [
    "## A group of students were classified in terms of personality (introvert or extrovert) and in terms of colour preference (red, yellow, green or blue) with the purpose of seeing whether there is an association (relationship) between personality and colour preference. Data was collected from 400 students and presented in the 2 (rows) x 4 (cols) \n",
    "## contingency table below:"
   ]
  },
  {
   "cell_type": "markdown",
   "id": "d9b2eaff",
   "metadata": {},
   "source": [
    "19.2 Page 77"
   ]
  },
  {
   "cell_type": "code",
   "execution_count": 1,
   "id": "5fd91550",
   "metadata": {},
   "outputs": [],
   "source": [
    "from scipy.stats import chi2_contingency"
   ]
  },
  {
   "cell_type": "code",
   "execution_count": 2,
   "id": "bbe3df09",
   "metadata": {},
   "outputs": [],
   "source": [
    "data=[[20, 6, 30, 44], [180, 34, 50, 36]]\n",
    "stat, p, df, expected=chi2_contingency(data)"
   ]
  },
  {
   "cell_type": "code",
   "execution_count": 3,
   "id": "6ac6ded7",
   "metadata": {},
   "outputs": [
    {
     "name": "stdout",
     "output_type": "stream",
     "text": [
      "stat=  71.19999999999999\n",
      "p value=  2.3619600509176005e-15\n",
      "Degree of freedom=  3\n",
      "expected value=  [[ 50.  10.  20.  20.]\n",
      " [150.  30.  60.  60.]]\n"
     ]
    }
   ],
   "source": [
    "print(\"stat= \", stat)\n",
    "print(\"p value= \", p)\n",
    "print(\"Degree of freedom= \", df)\n",
    "print(\"expected value= \", expected)\n"
   ]
  },
  {
   "cell_type": "code",
   "execution_count": 4,
   "id": "aab6b462",
   "metadata": {},
   "outputs": [
    {
     "name": "stdout",
     "output_type": "stream",
     "text": [
      "Reject Null Hypothesis. i.e, There is a association between colors and personality type\n"
     ]
    }
   ],
   "source": [
    "if p<0.05:\n",
    "    print(\"Reject Null Hypothesis. i.e, There is a association between colors and personality type\")\n",
    "else:\n",
    "    print(\"Null hypothesis is accepted i.e, Colors and personality types are not associated\")"
   ]
  },
  {
   "cell_type": "code",
   "execution_count": null,
   "id": "cdd9d55a",
   "metadata": {},
   "outputs": [],
   "source": []
  }
 ],
 "metadata": {
  "kernelspec": {
   "display_name": "Python 3",
   "language": "python",
   "name": "python3"
  },
  "language_info": {
   "codemirror_mode": {
    "name": "ipython",
    "version": 3
   },
   "file_extension": ".py",
   "mimetype": "text/x-python",
   "name": "python",
   "nbconvert_exporter": "python",
   "pygments_lexer": "ipython3",
   "version": "3.8.8"
  }
 },
 "nbformat": 4,
 "nbformat_minor": 5
}
